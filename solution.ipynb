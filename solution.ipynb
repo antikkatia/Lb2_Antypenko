{
 "cells": [
  {
   "cell_type": "code",
   "execution_count": 1,
   "id": "02280dc7-bde5-45cb-a05b-fd939aa96f76",
   "metadata": {},
   "outputs": [
    {
     "name": "stdout",
     "output_type": "stream",
     "text": [
      "Мій варіант: 2\n"
     ]
    }
   ],
   "source": [
    "def calculate_variant(n: int) -> int:\n",
    "    \"\"\"\n",
    "    Функція для розрахунку варіанту згідно формули:\n",
    "    N = (n + 4) % 5 + 1\n",
    "    \n",
    "    :param n: номер у списку групи\n",
    "    :return: номер варіанту\n",
    "    \"\"\"\n",
    "    return (n + 4) % 5 + 1\n",
    "\n",
    "# Використання функції\n",
    "my_number = 2  # Ваш номер у списку\n",
    "my_variant = calculate_variant(my_number)\n",
    "print(f\"Мій варіант: {my_variant}\")\n"
   ]
  },
  {
   "attachments": {
    "6f67d022-9d94-4f4e-a2d1-35a734300092.png": {
     "image/png": "[encoded data removed]"
    }
   },
   "cell_type": "markdown",
   "id": "22f6a10c-7684-4c06-9fd1-1e3032d4f210",
   "metadata": {},
   "source": [
    "![image.png](attachment:6f67d022-9d94-4f4e-a2d1-35a734300092.png)"
   ]
  },
  {
   "cell_type": "code",
   "execution_count": 1,
   "id": "6377b533-20f0-43ef-80d0-8ae6ad02bdec",
   "metadata": {},
   "outputs": [
    {
     "name": "stdout",
     "output_type": "stream",
     "text": [
      "\n",
      "Завдання 3: Імена стовпців у наборі даних:\n",
      "['Id', 'Name', 'Year', 'Gender', 'Count']\n",
      "\n",
      "Завдання 4: Інформація про набір даних:\n",
      "<class 'pandas.core.frame.DataFrame'>\n",
      "RangeIndex: 1825433 entries, 0 to 1825432\n",
      "Data columns (total 5 columns):\n",
      " #   Column  Dtype \n",
      "---  ------  ----- \n",
      " 0   Id      int64 \n",
      " 1   Name    object\n",
      " 2   Year    int64 \n",
      " 3   Gender  object\n",
      " 4   Count   int64 \n",
      "dtypes: int64(3), object(2)\n",
      "memory usage: 69.6+ MB\n"
     ]
    }
   ],
   "source": [
    "import pandas as pd\n",
    "\n",
    "# Завантаження даних із файлу\n",
    "file_path = \"NationalNames.csv\"\n",
    "data = pd.read_csv(file_path)\n",
    "# Завдання 3: Отримати імена стовпців набору даних\n",
    "columns = data.columns.tolist()\n",
    "print(\"\\nЗавдання 3: Імена стовпців у наборі даних:\")\n",
    "print(columns)\n",
    "# Завдання 4: Отримати загальну інформацію про дані\n",
    "print(\"\\nЗавдання 4: Інформація про набір даних:\")\n",
    "data.info()\n"
   ]
  },
  {
   "cell_type": "code",
   "execution_count": 2,
   "id": "9174deae-aa63-4549-9fdc-82c25a6bedb6",
   "metadata": {},
   "outputs": [
    {
     "name": "stdout",
     "output_type": "stream",
     "text": [
      "\n",
      "Завдання 5: Кількість унікальних імен у наборі даних:\n",
      "93889\n",
      "\n",
      "Завдання 8: Найпопулярніше ім'я за один рік (ім'я з максимальним Count):\n",
      "Ім'я: Linda, Рік: 1947, Кількість: 99680\n"
     ]
    }
   ],
   "source": [
    "# Завдання 5: Знайти кількість унікальних імен у наборі даних\n",
    "unique_names_count = data['Name'].nunique()\n",
    "print(\"\\nЗавдання 5: Кількість унікальних імен у наборі даних:\")\n",
    "print(unique_names_count)\n",
    "# Завдання 8: Знайти найпопулярніше ім'я за результатами одного року\n",
    "most_popular_name = data.loc[data['Count'].idxmax()]\n",
    "print(\"\\nЗавдання 8: Найпопулярніше ім'я за один рік (ім'я з максимальним Count):\")\n",
    "print(f\"Ім'я: {most_popular_name['Name']}, Рік: {most_popular_name['Year']}, Кількість: {most_popular_name['Count']}\")\n"
   ]
  },
  {
   "cell_type": "code",
   "execution_count": 3,
   "id": "81ec3e27-26af-4a5b-8e2d-e65deb0abef2",
   "metadata": {},
   "outputs": [
    {
     "name": "stdout",
     "output_type": "stream",
     "text": [
      "\n",
      "Завдання 9: Кількість записів із мінімальним значенням Count:\n",
      "254615\n",
      "\n",
      "Завдання 11: Рік із найбільшою кількістю унікальних імен:\n",
      "Рік: 2008, Кількість унікальних імен: 32488\n"
     ]
    }
   ],
   "source": [
    "# Завдання 9: Підрахувати кількість записів, для яких Count - мінімальне\n",
    "min_count_records = len(data[data['Count'] == data['Count'].min()])\n",
    "print(\"\\nЗавдання 9: Кількість записів із мінімальним значенням Count:\")\n",
    "print(min_count_records)\n",
    "# Завдання 11: Знайти рік із найбільшою кількістю унікальних імен\n",
    "unique_names_by_year = data.groupby('Year')['Name'].nunique()\n",
    "year_with_most_unique_names = unique_names_by_year.idxmax()\n",
    "most_unique_names_count = unique_names_by_year.max()\n",
    "print(\"\\nЗавдання 11: Рік із найбільшою кількістю унікальних імен:\")\n",
    "print(f\"Рік: {year_with_most_unique_names}, Кількість унікальних імен: {most_unique_names_count}\")\n"
   ]
  },
  {
   "cell_type": "code",
   "execution_count": 4,
   "id": "e44d4fef-1f09-4b37-92e8-e9894d5f21d0",
   "metadata": {},
   "outputs": [
    {
     "name": "stdout",
     "output_type": "stream",
     "text": [
      "\n",
      "Завдання 12: Найпопулярніше ім'я в році з найбільшою кількістю унікальних імен:\n",
      "Ім'я: Jacob, Кількість: 22568\n",
      "\n",
      "Завдання 13: Рік, коли ім'я 'Jacob' було найпопулярнішим серед жіночих імен:\n",
      "Рік: 2004, Кількість: 171\n"
     ]
    }
   ],
   "source": [
    "# Завдання 12: Найпопулярніше ім'я в році з найбільшою кількістю унікальних імен\n",
    "data_most_unique_year = data[data['Year'] == year_with_most_unique_names]\n",
    "most_popular_in_most_unique_year = data_most_unique_year.loc[data_most_unique_year['Count'].idxmax()]\n",
    "print(\"\\nЗавдання 12: Найпопулярніше ім'я в році з найбільшою кількістю унікальних імен:\")\n",
    "print(f\"Ім'я: {most_popular_in_most_unique_year['Name']}, Кількість: {most_popular_in_most_unique_year['Count']}\")\n",
    "# Завдання 13: Знайти рік, коли ім’я \"Jacob\" було найпопулярнішим серед жіночих імен\n",
    "jacob_female = data[(data['Name'] == 'Jacob') & (data['Gender'] == 'F')]\n",
    "if not jacob_female.empty:\n",
    "    year_jacob_female_popular = jacob_female.loc[jacob_female['Count'].idxmax()]\n",
    "    print(\"\\nЗавдання 13: Рік, коли ім'я 'Jacob' було найпопулярнішим серед жіночих імен:\")\n",
    "    print(f\"Рік: {year_jacob_female_popular['Year']}, Кількість: {year_jacob_female_popular['Count']}\")\n",
    "else:\n",
    "    print(\"\\nЗавдання 13: Ім'я 'Jacob' серед жіночих імен не було популярним.\")\n"
   ]
  },
  {
   "cell_type": "code",
   "execution_count": 2,
   "id": "055a325f-8d15-41f5-ac91-d4296c2577b0",
   "metadata": {},
   "outputs": [
    {
     "name": "stdout",
     "output_type": "stream",
     "text": [
      "\n",
      "Завдання 14: Рік із найбільшою кількістю гендерно нейтральних імен:\n",
      "Рік: 2008, Кількість гендерно нейтральних імен: 2557\n"
     ]
    }
   ],
   "source": [
    "import pandas as pd\n",
    "\n",
    "# Завантаження даних із файлу\n",
    "file_path = \"NationalNames.csv\"\n",
    "data = pd.read_csv(file_path)\n",
    "# Завдання 14: Знайти рік із найбільшою кількістю гендерно нейтральних імен\n",
    "neutral_names = data.groupby(['Year', 'Name']).filter(lambda x: x['Gender'].nunique() > 1)\n",
    "neutral_names_by_year = neutral_names.groupby('Year')['Name'].nunique()\n",
    "year_with_most_neutral_names = neutral_names_by_year.idxmax()\n",
    "most_neutral_names_count = neutral_names_by_year.max()\n",
    "print(\"\\nЗавдання 14: Рік із найбільшою кількістю гендерно нейтральних імен:\")\n",
    "print(f\"Рік: {year_with_most_neutral_names}, Кількість гендерно нейтральних імен: {most_neutral_names_count}\")\n"
   ]
  },
  {
   "cell_type": "code",
   "execution_count": 3,
   "id": "5c86e392-0928-4515-aed9-5e1029662058",
   "metadata": {},
   "outputs": [
    {
     "name": "stdout",
     "output_type": "stream",
     "text": [
      "\n",
      "Завдання 16: Рік, коли народилося найбільше дітей:\n",
      "Рік: 1957, Кількість народжень: 4200026\n"
     ]
    }
   ],
   "source": [
    "# Завдання 16: Знайти рік, коли народилося найбільше дітей\n",
    "births_by_year = data.groupby('Year')['Count'].sum()\n",
    "year_with_most_births = births_by_year.idxmax()\n",
    "most_births_count = births_by_year.max()\n",
    "print(\"\\nЗавдання 16: Рік, коли народилося найбільше дітей:\")\n",
    "print(f\"Рік: {year_with_most_births}, Кількість народжень: {most_births_count}\")\n"
   ]
  },
  {
   "cell_type": "code",
   "execution_count": 4,
   "id": "d8dc4f59-2429-4f19-8d5d-0f1dcf958671",
   "metadata": {},
   "outputs": [
    {
     "name": "stdout",
     "output_type": "stream",
     "text": [
      "\n",
      "Завдання 17: Кількість дівчаток та хлопчиків за роками:\n",
      "Gender        F        M\n",
      "Year                    \n",
      "1880      90993   110491\n",
      "1881      91954   100745\n",
      "1882     107850   113688\n",
      "1883     112321   104629\n",
      "1884     129022   114445\n",
      "...         ...      ...\n",
      "2010    1772738  1913851\n",
      "2011    1753500  1893230\n",
      "2012    1753922  1889414\n",
      "2013    1745339  1881463\n",
      "2014    1768775  1901376\n",
      "\n",
      "[135 rows x 2 columns]\n",
      "\n",
      "# Завдання 18: Кількість років, коли дівчаток народжувалось більше, ніж хлопчиків: 54\n"
     ]
    },
    {
     "data": {
      "image/png": "[encoded data removed]",
      "text/plain": [
       "<Figure size 1000x600 with 1 Axes>"
      ]
     },
     "metadata": {},
     "output_type": "display_data"
    }
   ],
   "source": [
    "# Завдання 17: Знайти кількість дівчаток та хлопчиків, які народились кожного року\n",
    "gender_counts_by_year = data.groupby(['Year', 'Gender'])['Count'].sum().unstack()\n",
    "print(\"\\nЗавдання 17: Кількість дівчаток та хлопчиків за роками:\")\n",
    "print(gender_counts_by_year)\n",
    "\n",
    "\n",
    "# Завдання 18: Підрахувати кількість років, коли дівчаток народжувалось більше, ніж хлопчиків\n",
    "years_more_girls = (gender_counts_by_year['F'] > gender_counts_by_year['M']).sum()\n",
    "print(\"\\n# Завдання 18: Кількість років, коли дівчаток народжувалось більше, ніж хлопчиків:\", years_more_girls)\n",
    "\n",
    "# Завдання 19: Накреслити графік загальної кількості народжень хлопчиків та дівчаток на рік\n",
    "import matplotlib.pyplot as plt\n",
    "\n",
    "plt.figure(figsize=(10, 6))\n",
    "plt.plot(gender_counts_by_year.index, gender_counts_by_year['F'], label='Дівчатка')\n",
    "plt.plot(gender_counts_by_year.index, gender_counts_by_year['M'], label='Хлопчики')\n",
    "plt.xlabel('Рік')\n",
    "plt.ylabel('Кількість народжень')\n",
    "plt.title('Кількість народжень хлопчиків та дівчаток на рік')\n",
    "plt.legend()\n",
    "plt.grid()\n",
    "plt.show()\n",
    "\n"
   ]
  },
  {
   "cell_type": "code",
   "execution_count": 1,
   "id": "67fafa51-5d52-4ffb-909a-e67353873f32",
   "metadata": {},
   "outputs": [
    {
     "name": "stdout",
     "output_type": "stream",
     "text": [
      "\n",
      "Завдання 20: Кількість гендерно нейтральних імен:\n",
      "Кількість гендерно нейтральних імен: 8914\n"
     ]
    }
   ],
   "source": [
    "import pandas as pd\n",
    "\n",
    "# Завантаження даних\n",
    "file_path = \"NationalNames.csv\"\n",
    "data = pd.read_csv(file_path)\n",
    "\n",
    "# Завдання 20: Підрахувати кількість гендерно нейтральних імен (однакових для дівчат та хлопчиків)\n",
    "neutral_names = data.groupby(['Year', 'Name']).filter(lambda x: x['Gender'].nunique() > 1)\n",
    "neutral_name_counts = neutral_names['Name'].nunique()\n",
    "print(\"\\nЗавдання 20: Кількість гендерно нейтральних імен:\")\n",
    "print(f\"Кількість гендерно нейтральних імен: {neutral_name_counts}\")\n"
   ]
  },
  {
   "cell_type": "code",
   "execution_count": 2,
   "id": "5e21dead-3886-4638-b8b3-81bcad9973c7",
   "metadata": {},
   "outputs": [
    {
     "name": "stdout",
     "output_type": "stream",
     "text": [
      "\n",
      "Завдання 22: Кількість років спостереження:\n",
      "Кількість років спостереження: 135\n"
     ]
    }
   ],
   "source": [
    "import pandas as pd\n",
    "\n",
    "# Завантаження даних\n",
    "file_path = \"NationalNames.csv\"\n",
    "data = pd.read_csv(file_path)\n",
    "\n",
    "# Завдання 22: Підрахувати скільки років проводилось спостереження\n",
    "years_of_observation = data['Year'].nunique()\n",
    "print(\"\\nЗавдання 22: Кількість років спостереження:\")\n",
    "print(f\"Кількість років спостереження: {years_of_observation}\")"
   ]
  },
  {
   "cell_type": "code",
   "execution_count": 2,
   "id": "a955b6fd-5e88-4b97-a46e-081c2185e94f",
   "metadata": {},
   "outputs": [
    {
     "name": "stdout",
     "output_type": "stream",
     "text": [
      "\n",
      "Завдання 23: Найпопулярніші гендерно-нейтральні імена:\n",
      "Найпопулярніші гендерно-нейтральні імена (присутні кожного року): ['Francis', 'James', 'Jean', 'Jesse', 'Jessie'] (показано перші 5)\n"
     ]
    }
   ],
   "source": [
    "import pandas as pd\n",
    "\n",
    "# Завантаження даних\n",
    "file_path = \"NationalNames.csv\"\n",
    "data = pd.read_csv(file_path)\n",
    "# Завдання 23: Найпопулярніші гендерно-нейтральні імена (присутні кожного року)\n",
    "years_of_observation = data['Year'].nunique()\n",
    "neutral_names = data.groupby(['Year', 'Name']).filter(lambda x: x['Gender'].nunique() > 1)\n",
    "neutral_names_by_year = neutral_names.groupby('Name')['Year'].nunique()\n",
    "popular_neutral_names = neutral_names_by_year[neutral_names_by_year == years_of_observation].index.tolist()\n",
    "print(\"\\nЗавдання 23: Найпопулярніші гендерно-нейтральні імена:\")\n",
    "print(f\"Найпопулярніші гендерно-нейтральні імена (присутні кожного року): {popular_neutral_names[:5]} (показано перші 5)\")"
   ]
  },
  {
   "cell_type": "code",
   "execution_count": 3,
   "id": "0a0ea0f5-eb78-4461-b78f-0c01b1e0bada",
   "metadata": {},
   "outputs": [
    {
     "name": "stdout",
     "output_type": "stream",
     "text": [
      "Найбільш популярне з непопулярних імен - це Jacqueli. Його називали 157 раз.\n"
     ]
    }
   ],
   "source": [
    "import pandas as pd\n",
    "\n",
    "# Завантаження даних\n",
    "file_path = \"NationalNames.csv\"\n",
    "data = pd.read_csv(file_path)\n",
    "# Завдання 24: Знайти найпопулярніше серед непопулярних імен\n",
    "# Крок 1: Групуємо дані за ім'ям і рахуємо загальну кількість народжень\n",
    "name_counts = data.groupby('Name')['Count'].sum()\n",
    "\n",
    "# Крок 2: Визначаємо непопулярні імена (імена із загальною кількістю <= 200)\n",
    "threshold = 200  # Встановлений поріг\n",
    "rare_names = name_counts[name_counts <= threshold].index\n",
    "\n",
    "# Крок 3: Фільтруємо дані для цих рідкісних імен\n",
    "rare_names_data = data[data['Name'].isin(rare_names)]\n",
    "\n",
    "# Крок 4: Знаходимо ім'я, яке має найбільший `Count` серед цих записів\n",
    "most_popular_rare = rare_names_data.loc[rare_names_data['Count'].idxmax()]\n",
    "most_popular_rare_name = most_popular_rare['Name']\n",
    "most_popular_rare_name_count = most_popular_rare['Count']\n",
    "\n",
    "# Вивід\n",
    "print(f\"Найбільш популярне з непопулярних імен - це {most_popular_rare_name}. Його називали {most_popular_rare_name_count} раз.\")\n"
   ]
  },
  {
   "cell_type": "code",
   "execution_count": 4,
   "id": "ba90aca6-326b-450b-aca6-ebb686299b66",
   "metadata": {},
   "outputs": [
    {
     "name": "stdout",
     "output_type": "stream",
     "text": [
      "\n",
      "Завдання 27: Найпопулярніші імена в кожному році:\n",
      " Year     Name  Count\n",
      " 1880     John   9655\n",
      " 1881     John   8769\n",
      " 1882     John   9557\n",
      " 1883     John   8894\n",
      " 1884     John   9388\n",
      " 1885     Mary   9128\n",
      " 1886     Mary   9890\n",
      " 1887     Mary   9888\n",
      " 1888     Mary  11754\n",
      " 1889     Mary  11648\n",
      " 1890     Mary  12078\n",
      " 1891     Mary  11703\n",
      " 1892     Mary  13173\n",
      " 1893     Mary  12784\n",
      " 1894     Mary  13151\n",
      " 1895     Mary  13446\n",
      " 1896     Mary  13811\n",
      " 1897     Mary  13413\n",
      " 1898     Mary  14406\n",
      " 1899     Mary  13172\n",
      " 1900     Mary  16707\n",
      " 1901     Mary  13136\n",
      " 1902     Mary  14486\n",
      " 1903     Mary  14275\n",
      " 1904     Mary  14962\n",
      " 1905     Mary  16067\n",
      " 1906     Mary  16370\n",
      " 1907     Mary  17580\n",
      " 1908     Mary  18666\n",
      " 1909     Mary  19259\n",
      " 1910     Mary  22848\n",
      " 1911     Mary  24390\n",
      " 1912     Mary  32303\n",
      " 1913     Mary  36641\n",
      " 1914     Mary  45344\n",
      " 1915     Mary  58187\n",
      " 1916     Mary  61437\n",
      " 1917     Mary  64280\n",
      " 1918     Mary  67370\n",
      " 1919     Mary  65840\n",
      " 1920     Mary  70976\n",
      " 1921     Mary  73985\n",
      " 1922     Mary  72171\n",
      " 1923     Mary  71634\n",
      " 1924     Mary  73527\n",
      " 1925     Mary  70601\n",
      " 1926     Mary  67823\n",
      " 1927     Mary  70632\n",
      " 1928     Mary  66866\n",
      " 1929     Mary  63508\n",
      " 1930     Mary  64134\n",
      " 1931   Robert  60497\n",
      " 1932     Mary  59871\n",
      " 1933     Mary  55493\n",
      " 1934     Mary  56918\n",
      " 1935   Robert  56514\n",
      " 1936   Robert  58486\n",
      " 1937   Robert  61821\n",
      " 1938   Robert  62262\n",
      " 1939   Robert  59640\n",
      " 1940    James  62472\n",
      " 1941    James  66719\n",
      " 1942    James  77173\n",
      " 1943    James  80248\n",
      " 1944    James  76944\n",
      " 1945    James  74450\n",
      " 1946    James  87425\n",
      " 1947    Linda  99680\n",
      " 1948    Linda  96205\n",
      " 1949    Linda  91010\n",
      " 1950    James  86221\n",
      " 1951    James  87175\n",
      " 1952    James  87083\n",
      " 1953   Robert  86135\n",
      " 1954  Michael  88485\n",
      " 1955  Michael  88283\n",
      " 1956  Michael  90633\n",
      " 1957  Michael  92709\n",
      " 1958  Michael  90519\n",
      " 1959  Michael  85272\n",
      " 1960    David  85931\n",
      " 1961  Michael  86916\n",
      " 1962  Michael  85046\n",
      " 1963  Michael  83795\n",
      " 1964  Michael  82674\n",
      " 1965  Michael  81048\n",
      " 1966  Michael  80002\n",
      " 1967  Michael  82454\n",
      " 1968  Michael  82019\n",
      " 1969  Michael  85227\n",
      " 1970  Michael  85321\n",
      " 1971  Michael  77611\n",
      " 1972  Michael  71426\n",
      " 1973  Michael  67864\n",
      " 1974  Michael  67577\n",
      " 1975  Michael  68457\n",
      " 1976  Michael  66971\n",
      " 1977  Michael  67611\n",
      " 1978  Michael  67153\n",
      " 1979  Michael  67728\n",
      " 1980  Michael  68666\n",
      " 1981  Michael  68752\n",
      " 1982  Michael  68204\n",
      " 1983  Michael  67986\n",
      " 1984  Michael  67722\n",
      " 1985  Michael  64887\n",
      " 1986  Michael  64184\n",
      " 1987  Michael  63631\n",
      " 1988  Michael  64116\n",
      " 1989  Michael  65374\n",
      " 1990  Michael  65274\n",
      " 1991  Michael  60781\n",
      " 1992  Michael  54377\n",
      " 1993  Michael  49553\n",
      " 1994  Michael  44465\n",
      " 1995  Michael  41403\n",
      " 1996  Michael  38364\n",
      " 1997  Michael  37543\n",
      " 1998  Michael  36613\n",
      " 1999    Jacob  35344\n",
      " 2000    Jacob  34465\n",
      " 2001    Jacob  32527\n",
      " 2002    Jacob  30556\n",
      " 2003    Jacob  29615\n",
      " 2004    Jacob  27871\n",
      " 2005    Jacob  25814\n",
      " 2006    Jacob  24830\n",
      " 2007    Jacob  24252\n",
      " 2008    Jacob  22568\n",
      " 2009 Isabella  22278\n",
      " 2010 Isabella  22883\n",
      " 2011   Sophia  21816\n",
      " 2012   Sophia  22267\n",
      " 2013   Sophia  21147\n",
      " 2014     Emma  20799\n"
     ]
    }
   ],
   "source": [
    "import pandas as pd\n",
    "\n",
    "# Завантаження даних\n",
    "file_path = \"NationalNames.csv\"\n",
    "data = pd.read_csv(file_path)\n",
    "# Завдання 27: Знайти найпопулярніші імена в кожному році\n",
    "most_popular_by_year = data.loc[data.groupby('Year')['Count'].idxmax()]\n",
    "print(\"\\nЗавдання 27: Найпопулярніші імена в кожному році:\")\n",
    "print(most_popular_by_year[['Year', 'Name', 'Count']].to_string(index=False))\n"
   ]
  }
 ],
 "metadata": {
  "kernelspec": {
   "display_name": "Python 3 (ipykernel)",
   "language": "python",
   "name": "python3"
  },
  "language_info": {
   "codemirror_mode": {
    "name": "ipython",
    "version": 3
   },
   "file_extension": ".py",
   "mimetype": "text/x-python",
   "name": "python",
   "nbconvert_exporter": "python",
   "pygments_lexer": "ipython3",
   "version": "3.12.7"
  }
 },
 "nbformat": 4,
 "nbformat_minor": 5
}
